{
 "cells": [
  {
   "cell_type": "code",
   "execution_count": 1,
   "metadata": {},
   "outputs": [],
   "source": [
    "import subprocess as sub\n",
    "\n",
    "repetition = 5\n",
    "\n",
    "executables = {\n",
    "    'Bary': '/home/thang/Study/pace2024/mincrossing-bary-red',\n",
    "    'Bary2': '/home/thang/Study/pace2024/mincrossing-bary',\n",
    "    'Medium': '/home/thang/Study/pace2024/mincrossing-medium-red',\n",
    "    'Random': '/home/thang/Study/pace2024/mincrossing-random-red',\n",
    "}\n",
    "\n"
   ]
  },
  {
   "cell_type": "code",
   "execution_count": 18,
   "metadata": {},
   "outputs": [],
   "source": [
    "def run_process(base, file, time, algorithm):\n",
    "    return sub.run([executables[base], '-f', file, '-t', str(time), '-a', algorithm], capture_output=True)\n",
    "def get_min_crossing(completed_process):\n",
    "    return int(str(completed_process.stdout).split('\\\\n')[0][16:])"
   ]
  },
  {
   "cell_type": "code",
   "execution_count": 31,
   "metadata": {},
   "outputs": [
    {
     "name": "stdout",
     "output_type": "stream",
     "text": [
      "Max: 169222\n",
      "Average: 169173.6\n",
      "Min: 169093\n"
     ]
    }
   ],
   "source": [
    "min_crossings = []\n",
    "base = 'Medium'\n",
    "file = 'examples/generated/200.gr'\n",
    "time = 5000\n",
    "algorithm = 'SA'\n",
    "for r in range(repetition):\n",
    "    min_crossings.append(get_min_crossing(run_process(base, file, time, algorithm)))\n",
    "print(f\"Max: {max(min_crossings)}\")\n",
    "print(f\"Average: {sum(min_crossings) / len(min_crossings)}\")\n",
    "print(f\"Min: {min(min_crossings)}\")\n"
   ]
  },
  {
   "cell_type": "code",
   "execution_count": 26,
   "metadata": {},
   "outputs": [
    {
     "name": "stdout",
     "output_type": "stream",
     "text": [
      "Max: 959909\n",
      "Average: 948577.6\n",
      "Min: 941490\n"
     ]
    }
   ],
   "source": [
    "min_crossings = []\n",
    "base = 'Random'\n",
    "file = 'examples/generated/hard.grr'\n",
    "time = 3000\n",
    "algorithm = 'GA'\n",
    "for r in range(repetition):\n",
    "    min_crossings.append(get_min_crossing(run_process(base, file, time, algorithm)))\n",
    "print(f\"Max: {max(min_crossings)}\")\n",
    "print(f\"Average: {sum(min_crossings) / len(min_crossings)}\")\n",
    "print(f\"Min: {min(min_crossings)}\")\n"
   ]
  },
  {
   "cell_type": "code",
   "execution_count": 29,
   "metadata": {},
   "outputs": [
    {
     "ename": "ValueError",
     "evalue": "invalid literal for int() with base 10: ''",
     "output_type": "error",
     "traceback": [
      "\u001b[0;31m---------------------------------------------------------------------------\u001b[0m",
      "\u001b[0;31mValueError\u001b[0m                                Traceback (most recent call last)",
      "Cell \u001b[0;32mIn[29], line 7\u001b[0m\n\u001b[1;32m      5\u001b[0m algorithm \u001b[38;5;241m=\u001b[39m \u001b[38;5;124m'\u001b[39m\u001b[38;5;124mILP\u001b[39m\u001b[38;5;124m'\u001b[39m\n\u001b[1;32m      6\u001b[0m x \u001b[38;5;241m=\u001b[39m sub\u001b[38;5;241m.\u001b[39mrun([executables[base], \u001b[38;5;124m'\u001b[39m\u001b[38;5;124m-f\u001b[39m\u001b[38;5;124m'\u001b[39m, \u001b[38;5;124m'\u001b[39m\u001b[38;5;124mexamples/generated/hard.grr\u001b[39m\u001b[38;5;124m'\u001b[39m, \u001b[38;5;124m'\u001b[39m\u001b[38;5;124m-a\u001b[39m\u001b[38;5;124m'\u001b[39m, \u001b[38;5;124m'\u001b[39m\u001b[38;5;124mILP\u001b[39m\u001b[38;5;124m'\u001b[39m], capture_output\u001b[38;5;241m=\u001b[39m\u001b[38;5;28;01mTrue\u001b[39;00m)\n\u001b[0;32m----> 7\u001b[0m \u001b[38;5;28mprint\u001b[39m(\u001b[43mget_min_crossing\u001b[49m\u001b[43m(\u001b[49m\u001b[43mx\u001b[49m\u001b[43m)\u001b[49m)\n",
      "Cell \u001b[0;32mIn[18], line 4\u001b[0m, in \u001b[0;36mget_min_crossing\u001b[0;34m(completed_process)\u001b[0m\n\u001b[1;32m      3\u001b[0m \u001b[38;5;28;01mdef\u001b[39;00m \u001b[38;5;21mget_min_crossing\u001b[39m(completed_process):\n\u001b[0;32m----> 4\u001b[0m     \u001b[38;5;28;01mreturn\u001b[39;00m \u001b[38;5;28;43mint\u001b[39;49m\u001b[43m(\u001b[49m\u001b[38;5;28;43mstr\u001b[39;49m\u001b[43m(\u001b[49m\u001b[43mcompleted_process\u001b[49m\u001b[38;5;241;43m.\u001b[39;49m\u001b[43mstdout\u001b[49m\u001b[43m)\u001b[49m\u001b[38;5;241;43m.\u001b[39;49m\u001b[43msplit\u001b[49m\u001b[43m(\u001b[49m\u001b[38;5;124;43m'\u001b[39;49m\u001b[38;5;130;43;01m\\\\\u001b[39;49;00m\u001b[38;5;124;43mn\u001b[39;49m\u001b[38;5;124;43m'\u001b[39;49m\u001b[43m)\u001b[49m\u001b[43m[\u001b[49m\u001b[38;5;241;43m0\u001b[39;49m\u001b[43m]\u001b[49m\u001b[43m[\u001b[49m\u001b[38;5;241;43m16\u001b[39;49m\u001b[43m:\u001b[49m\u001b[43m]\u001b[49m\u001b[43m)\u001b[49m\n",
      "\u001b[0;31mValueError\u001b[0m: invalid literal for int() with base 10: ''"
     ]
    }
   ],
   "source": [
    "min_crossings = []\n",
    "base = 'Random'\n",
    "file = 'examples/generated/hard.grr'\n",
    "time = 120000\n",
    "algorithm = 'ILP'\n",
    "x = sub.run([executables[base], '-f', 'examples/generated/hard.grr', '-a', 'ILP'], capture_output=True)\n",
    "print(get_min_crossing(x))\n"
   ]
  },
  {
   "cell_type": "code",
   "execution_count": null,
   "metadata": {},
   "outputs": [],
   "source": [
    "x = sub.run(['/home/thang/Study/pace2024/mincrossing-bary', '-f', 'examples/generated/aaaa.gr', '-t', '3000', '-a', 'SA'], capture_output=True)"
   ]
  },
  {
   "cell_type": "code",
   "execution_count": 10,
   "metadata": {},
   "outputs": [
    {
     "data": {
      "text/plain": [
       "828"
      ]
     },
     "execution_count": 10,
     "metadata": {},
     "output_type": "execute_result"
    }
   ],
   "source": [
    "\n",
    "\n",
    "get_min_crossing(x)"
   ]
  },
  {
   "cell_type": "code",
   "execution_count": 2,
   "metadata": {},
   "outputs": [
    {
     "data": {
      "text/plain": [
       "CompletedProcess(args=['g++', '-shared', '-o', 'bipartitle_graph_cppyy.so', '-fPIC', 'include/graph/bipartite_graph.h'], returncode=0)"
      ]
     },
     "execution_count": 2,
     "metadata": {},
     "output_type": "execute_result"
    }
   ],
   "source": []
  }
 ],
 "metadata": {
  "kernelspec": {
   "display_name": "Python 3",
   "language": "python",
   "name": "python3"
  },
  "language_info": {
   "codemirror_mode": {
    "name": "ipython",
    "version": 3
   },
   "file_extension": ".py",
   "mimetype": "text/x-python",
   "name": "python",
   "nbconvert_exporter": "python",
   "pygments_lexer": "ipython3",
   "version": "3.10.12"
  }
 },
 "nbformat": 4,
 "nbformat_minor": 2
}
