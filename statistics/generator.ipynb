{
 "cells": [
  {
   "cell_type": "code",
   "execution_count": 1,
   "metadata": {},
   "outputs": [],
   "source": [
    "import os\n",
    "cwd = os.getcwd() + \"/\"\n",
    "\n",
    "def generate_random_edges(n0, n1, m):\n",
    "    from random import randint\n",
    "    cached = set()\n",
    "    while len(cached) < m:\n",
    "        v0 = randint(1, n0)\n",
    "        v1 = randint(1, n1) + n0\n",
    "        cached.add((v0, v1))\n",
    "    return list(cached)\n",
    "\n",
    "def generate_path(n0, n1, m):\n",
    "    from random import choice\n",
    "    m = min(m, min(n0, n1))\n",
    "    if m % 2 == 0: m += 1\n",
    "    n0s = [i+1 for i in range(n0)]\n",
    "    n1s = [i+1 for i in range(n1)]\n",
    "    path = []\n",
    "    def get(container, m):\n",
    "        e = choice(container)\n",
    "        container.remove(e)\n",
    "        return e, m - 1\n",
    "    def change(target):\n",
    "        return n0s if target == n1s else n1s\n",
    "    last, _ = get(n0s, m)\n",
    "    start = last\n",
    "    target = n1s\n",
    "    while m > 0:\n",
    "        current, m = get(target, m)\n",
    "        path.append((last, current))\n",
    "        last = current\n",
    "        target = change(target)\n",
    "    \n",
    "    return path\n",
    "\n",
    "def create_generator(func):\n",
    "    return lambda *args: func(*args)\n",
    "\n",
    "def write_file(path, generator, n0, n1, m, cwd=cwd):\n",
    "    with open(cwd + path + f\"{n0}_{n1}_{m}.gr\", 'w') as file:\n",
    "        file.write(f\"p ocr {n0} {n1} {m}\\n\")\n",
    "        for edge in generator(n0, n1, m):\n",
    "            file.write(f\"{edge[0]} {edge[1]}\\n\")"
   ]
  },
  {
   "cell_type": "code",
   "execution_count": 2,
   "metadata": {},
   "outputs": [],
   "source": [
    "write_file(\"graphs/\", generate_random_edges, 10000, 10000, 600000)\n"
   ]
  }
 ],
 "metadata": {
  "kernelspec": {
   "display_name": "Python 3",
   "language": "python",
   "name": "python3"
  },
  "language_info": {
   "codemirror_mode": {
    "name": "ipython",
    "version": 3
   },
   "file_extension": ".py",
   "mimetype": "text/x-python",
   "name": "python",
   "nbconvert_exporter": "python",
   "pygments_lexer": "ipython3",
   "version": "3.10.12"
  }
 },
 "nbformat": 4,
 "nbformat_minor": 2
}
