{
 "cells": [
  {
   "cell_type": "code",
   "execution_count": 1,
   "metadata": {},
   "outputs": [
    {
     "name": "stdout",
     "output_type": "stream",
     "text": [
      "/home/thang/Study/pace2024/\n"
     ]
    }
   ],
   "source": [
    "import os\n",
    "import subprocess\n",
    "\n",
    "cwd = os.getcwd() + \"/\"\n",
    "os.chdir(cwd + \"..\")\n",
    "cwd = os.getcwd() + \"/\"\n",
    "print(cwd)\n"
   ]
  },
  {
   "cell_type": "code",
   "execution_count": 2,
   "metadata": {},
   "outputs": [
    {
     "name": "stdout",
     "output_type": "stream",
     "text": [
      "RANDOM MODE enabled\n",
      "ILP Implemented\n",
      "Final build command: cmake -DGUROBI_DIR=/opt/gurobi1100/linux64/ -DRANDOM_MODE=ON -DGUROBI_DIR=/opt/gurobi1100/linux64/ ..\n"
     ]
    },
    {
     "name": "stderr",
     "output_type": "stream",
     "text": [
      "\u001b[0mBARY_MODE=On\u001b[0m\n",
      "\u001b[0mJUMP_MODE=On\u001b[0m\n",
      "\u001b[0mMEDIAN_MODE=On\u001b[0m\n",
      "\u001b[0mRANDOM_MODE=On\u001b[0m\n"
     ]
    },
    {
     "name": "stdout",
     "output_type": "stream",
     "text": [
      "-- Configuring done\n",
      "-- Generating done\n",
      "-- Build files have been written to: /home/thang/Study/pace2024/build\n",
      "\u001b[35m\u001b[1mConsolidate compiler generated dependencies of target mincrossing\u001b[0m\n",
      "[  6%] \u001b[32mBuilding CXX object CMakeFiles/mincrossing.dir/src/main.cpp.o\u001b[0m\n",
      "[ 13%] \u001b[32mBuilding CXX object CMakeFiles/mincrossing.dir/src/problems/problem.cpp.o\u001b[0m\n",
      "[ 20%] \u001b[32mBuilding CXX object CMakeFiles/mincrossing.dir/src/graph/bipartite_graph.cpp.o\u001b[0m\n"
     ]
    },
    {
     "name": "stderr",
     "output_type": "stream",
     "text": [
      "/home/thang/Study/pace2024/src/graph/bipartite_graph.cpp:65:20: error: no declaration matches ‘long long unsigned int BipartiteGraph::count(int, int)’\n",
      "   65 | unsigned long long BipartiteGraph::count(int i1, int i2) {\n",
      "      |                    ^~~~~~~~~~~~~~\n",
      "In file included from /home/thang/Study/pace2024/src/graph/bipartite_graph.cpp:1:\n",
      "/home/thang/Study/pace2024/include/graph/bipartite_graph.h:44:18: note: candidates are: ‘unsigned int BipartiteGraph::count(int, int)’\n",
      "   44 |     unsigned int count(int i1, int i2);\n",
      "      |                  ^~~~~\n",
      "/home/thang/Study/pace2024/src/graph/bipartite_graph.cpp:35:20: note:                 ‘template<class Container> long long unsigned int BipartiteGraph::count(const Container&)’\n",
      "   35 | unsigned long long BipartiteGraph::count(Container const& order) {\n",
      "      |                    ^~~~~~~~~~~~~~\n",
      "In file included from /home/thang/Study/pace2024/src/graph/bipartite_graph.cpp:1:\n",
      "/home/thang/Study/pace2024/include/graph/bipartite_graph.h:8:7: note: ‘class BipartiteGraph’ defined here\n",
      "    8 | class BipartiteGraph {\n",
      "      |       ^~~~~~~~~~~~~~\n",
      "gmake[2]: *** [CMakeFiles/mincrossing.dir/build.make:104: CMakeFiles/mincrossing.dir/src/graph/bipartite_graph.cpp.o] Error 1\n",
      "gmake[1]: *** [CMakeFiles/Makefile2:100: CMakeFiles/mincrossing.dir/all] Error 2\n",
      "gmake: *** [Makefile:111: all] Error 2\n",
      "\u001b[0mBARY_MODE=On\u001b[0m\n",
      "\u001b[0mJUMP_MODE=On\u001b[0m\n",
      "\u001b[0mMEDIAN_MODE=On\u001b[0m\n",
      "\u001b[0mRANDOM_MODE=On\u001b[0m\n"
     ]
    },
    {
     "name": "stdout",
     "output_type": "stream",
     "text": [
      "\n",
      "\n",
      "BARY MODE enabled\n",
      "ILP Implemented\n",
      "Final build command: cmake -DGUROBI_DIR=/opt/gurobi1100/linux64/ -DBARY_MODE=ON -DGUROBI_DIR=/opt/gurobi1100/linux64/ ..\n",
      "-- Configuring done\n",
      "-- Generating done\n",
      "-- Build files have been written to: /home/thang/Study/pace2024/build\n",
      "\u001b[35m\u001b[1mConsolidate compiler generated dependencies of target mincrossing\u001b[0m\n",
      "[  6%] \u001b[32mBuilding CXX object CMakeFiles/mincrossing.dir/src/graph/bipartite_graph.cpp.o\u001b[0m\n"
     ]
    },
    {
     "name": "stderr",
     "output_type": "stream",
     "text": [
      "/home/thang/Study/pace2024/src/graph/bipartite_graph.cpp:65:20: error: no declaration matches ‘long long unsigned int BipartiteGraph::count(int, int)’\n",
      "   65 | unsigned long long BipartiteGraph::count(int i1, int i2) {\n",
      "      |                    ^~~~~~~~~~~~~~\n",
      "In file included from /home/thang/Study/pace2024/src/graph/bipartite_graph.cpp:1:\n",
      "/home/thang/Study/pace2024/include/graph/bipartite_graph.h:44:18: note: candidates are: ‘unsigned int BipartiteGraph::count(int, int)’\n",
      "   44 |     unsigned int count(int i1, int i2);\n",
      "      |                  ^~~~~\n",
      "/home/thang/Study/pace2024/src/graph/bipartite_graph.cpp:35:20: note:                 ‘template<class Container> long long unsigned int BipartiteGraph::count(const Container&)’\n",
      "   35 | unsigned long long BipartiteGraph::count(Container const& order) {\n",
      "      |                    ^~~~~~~~~~~~~~\n",
      "In file included from /home/thang/Study/pace2024/src/graph/bipartite_graph.cpp:1:\n",
      "/home/thang/Study/pace2024/include/graph/bipartite_graph.h:8:7: note: ‘class BipartiteGraph’ defined here\n",
      "    8 | class BipartiteGraph {\n",
      "      |       ^~~~~~~~~~~~~~\n",
      "gmake[2]: *** [CMakeFiles/mincrossing.dir/build.make:104: CMakeFiles/mincrossing.dir/src/graph/bipartite_graph.cpp.o] Error 1\n",
      "gmake[1]: *** [CMakeFiles/Makefile2:100: CMakeFiles/mincrossing.dir/all] Error 2\n",
      "gmake: *** [Makefile:111: all] Error 2\n",
      "\u001b[0mBARY_MODE=On\u001b[0m\n",
      "\u001b[0mJUMP_MODE=On\u001b[0m\n",
      "\u001b[0mMEDIAN_MODE=On\u001b[0m\n",
      "\u001b[0mRANDOM_MODE=On\u001b[0m\n"
     ]
    },
    {
     "name": "stdout",
     "output_type": "stream",
     "text": [
      "\n",
      "\n",
      "BARY MODE enabled\n",
      "JUMP MODE enabled\n",
      "ILP Implemented\n",
      "Final build command: cmake -DGUROBI_DIR=/opt/gurobi1100/linux64/ -DBARY_MODE=ON -DJUMP_MODE=ON -DGUROBI_DIR=/opt/gurobi1100/linux64/ ..\n",
      "-- Configuring done\n",
      "-- Generating done\n",
      "-- Build files have been written to: /home/thang/Study/pace2024/build\n",
      "\u001b[35m\u001b[1mConsolidate compiler generated dependencies of target mincrossing\u001b[0m\n",
      "[  6%] \u001b[32mBuilding CXX object CMakeFiles/mincrossing.dir/src/graph/bipartite_graph.cpp.o\u001b[0m\n"
     ]
    },
    {
     "name": "stderr",
     "output_type": "stream",
     "text": [
      "/home/thang/Study/pace2024/src/graph/bipartite_graph.cpp:65:20: error: no declaration matches ‘long long unsigned int BipartiteGraph::count(int, int)’\n",
      "   65 | unsigned long long BipartiteGraph::count(int i1, int i2) {\n",
      "      |                    ^~~~~~~~~~~~~~\n",
      "In file included from /home/thang/Study/pace2024/src/graph/bipartite_graph.cpp:1:\n",
      "/home/thang/Study/pace2024/include/graph/bipartite_graph.h:44:18: note: candidates are: ‘unsigned int BipartiteGraph::count(int, int)’\n",
      "   44 |     unsigned int count(int i1, int i2);\n",
      "      |                  ^~~~~\n",
      "/home/thang/Study/pace2024/src/graph/bipartite_graph.cpp:35:20: note:                 ‘template<class Container> long long unsigned int BipartiteGraph::count(const Container&)’\n",
      "   35 | unsigned long long BipartiteGraph::count(Container const& order) {\n",
      "      |                    ^~~~~~~~~~~~~~\n",
      "In file included from /home/thang/Study/pace2024/src/graph/bipartite_graph.cpp:1:\n",
      "/home/thang/Study/pace2024/include/graph/bipartite_graph.h:8:7: note: ‘class BipartiteGraph’ defined here\n",
      "    8 | class BipartiteGraph {\n",
      "      |       ^~~~~~~~~~~~~~\n",
      "gmake[2]: *** [CMakeFiles/mincrossing.dir/build.make:104: CMakeFiles/mincrossing.dir/src/graph/bipartite_graph.cpp.o] Error 1\n",
      "gmake[1]: *** [CMakeFiles/Makefile2:100: CMakeFiles/mincrossing.dir/all] Error 2\n",
      "gmake: *** [Makefile:111: all] Error 2\n",
      "\u001b[0mBARY_MODE=On\u001b[0m\n",
      "\u001b[0mJUMP_MODE=On\u001b[0m\n",
      "\u001b[0mMEDIAN_MODE=On\u001b[0m\n",
      "\u001b[0mRANDOM_MODE=On\u001b[0m\n"
     ]
    },
    {
     "name": "stdout",
     "output_type": "stream",
     "text": [
      "\n",
      "\n",
      "MEDIAN MODE enabled\n",
      "JUMP MODE enabled\n",
      "ILP Implemented\n",
      "Final build command: cmake -DGUROBI_DIR=/opt/gurobi1100/linux64/ -DMEDIAN_MODE=ON -DJUMP_MODE=ON -DGUROBI_DIR=/opt/gurobi1100/linux64/ ..\n",
      "-- Configuring done\n",
      "-- Generating done\n",
      "-- Build files have been written to: /home/thang/Study/pace2024/build\n",
      "\u001b[35m\u001b[1mConsolidate compiler generated dependencies of target mincrossing\u001b[0m\n",
      "[  6%] \u001b[32mBuilding CXX object CMakeFiles/mincrossing.dir/src/graph/bipartite_graph.cpp.o\u001b[0m\n",
      "\n",
      "\n"
     ]
    },
    {
     "name": "stderr",
     "output_type": "stream",
     "text": [
      "/home/thang/Study/pace2024/src/graph/bipartite_graph.cpp:65:20: error: no declaration matches ‘long long unsigned int BipartiteGraph::count(int, int)’\n",
      "   65 | unsigned long long BipartiteGraph::count(int i1, int i2) {\n",
      "      |                    ^~~~~~~~~~~~~~\n",
      "In file included from /home/thang/Study/pace2024/src/graph/bipartite_graph.cpp:1:\n",
      "/home/thang/Study/pace2024/include/graph/bipartite_graph.h:44:18: note: candidates are: ‘unsigned int BipartiteGraph::count(int, int)’\n",
      "   44 |     unsigned int count(int i1, int i2);\n",
      "      |                  ^~~~~\n",
      "/home/thang/Study/pace2024/src/graph/bipartite_graph.cpp:35:20: note:                 ‘template<class Container> long long unsigned int BipartiteGraph::count(const Container&)’\n",
      "   35 | unsigned long long BipartiteGraph::count(Container const& order) {\n",
      "      |                    ^~~~~~~~~~~~~~\n",
      "In file included from /home/thang/Study/pace2024/src/graph/bipartite_graph.cpp:1:\n",
      "/home/thang/Study/pace2024/include/graph/bipartite_graph.h:8:7: note: ‘class BipartiteGraph’ defined here\n",
      "    8 | class BipartiteGraph {\n",
      "      |       ^~~~~~~~~~~~~~\n",
      "gmake[2]: *** [CMakeFiles/mincrossing.dir/build.make:104: CMakeFiles/mincrossing.dir/src/graph/bipartite_graph.cpp.o] Error 1\n",
      "gmake[1]: *** [CMakeFiles/Makefile2:100: CMakeFiles/mincrossing.dir/all] Error 2\n",
      "gmake: *** [Makefile:111: all] Error 2\n"
     ]
    }
   ],
   "source": [
    "configs = [\n",
    "    ('mincrossing_random', ),\n",
    "    ('mincrossing_bary', '-b'),\n",
    "    ('mincrossing_bary_red', '-b', '-j'),\n",
    "    ('mincrossing_median', '-m', '-j')\n",
    "]\n",
    "\n",
    "\n",
    "for file, *flags in configs:\n",
    "    if flags == []: \n",
    "        subprocess.run(['/bin/bash', cwd + 'build.sh'], check=True)\n",
    "    else:\n",
    "        subprocess.run(['/bin/bash', cwd + 'build.sh', *flags], check=True)\n",
    "    subprocess.run(['cp', cwd + 'build/mincrossing', cwd + \"statistics/\" + file], check=True)\n",
    "    print(\"\\n\")"
   ]
  }
 ],
 "metadata": {
  "kernelspec": {
   "display_name": "Python 3",
   "language": "python",
   "name": "python3"
  },
  "language_info": {
   "codemirror_mode": {
    "name": "ipython",
    "version": 3
   },
   "file_extension": ".py",
   "mimetype": "text/x-python",
   "name": "python",
   "nbconvert_exporter": "python",
   "pygments_lexer": "ipython3",
   "version": "3.10.12"
  }
 },
 "nbformat": 4,
 "nbformat_minor": 2
}
