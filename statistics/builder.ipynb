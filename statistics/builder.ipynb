{
 "cells": [
  {
   "cell_type": "code",
   "execution_count": 1,
   "metadata": {},
   "outputs": [
    {
     "name": "stdout",
     "output_type": "stream",
     "text": [
      "/home/thang/Study/pace2024/\n"
     ]
    }
   ],
   "source": [
    "import os\n",
    "import subprocess\n",
    "\n",
    "cwd = os.getcwd() + \"/\"\n",
    "os.chdir(cwd + \"..\")\n",
    "cwd = os.getcwd() + \"/\"\n",
    "print(cwd)\n"
   ]
  },
  {
   "cell_type": "code",
   "execution_count": 4,
   "metadata": {},
   "outputs": [
    {
     "name": "stdout",
     "output_type": "stream",
     "text": [
      "RANDOM MODE enabled\n",
      "ILP Implemented\n",
      "Final build command: cmake -DGUROBI_DIR=/opt/gurobi1100/linux64/ -DRANDOM_MODE=ON -DGUROBI_DIR=/opt/gurobi1100/linux64/ ..\n",
      "-- The C compiler identification is GNU 11.4.0\n",
      "-- The CXX compiler identification is GNU 11.4.0\n",
      "-- Detecting C compiler ABI info\n",
      "-- Detecting C compiler ABI info - done\n",
      "-- Check for working C compiler: /bin/cc - skipped\n",
      "-- Detecting C compile features\n",
      "-- Detecting C compile features - done\n",
      "-- Detecting CXX compiler ABI info\n",
      "-- Detecting CXX compiler ABI info - done\n",
      "-- Check for working CXX compiler: /bin/c++ - skipped\n",
      "-- Detecting CXX compile features\n",
      "-- Detecting CXX compile features - done\n",
      "-- Build type: \n",
      "-- Found GUROBI: /opt/gurobi1100/linux64/lib/libgurobi110.so  \n",
      "-- Configuring done\n",
      "-- Generating done\n",
      "-- Build files have been written to: /home/thang/Study/pace2024/build\n",
      "[  6%] \u001b[32mBuilding CXX object CMakeFiles/mincrossing.dir/src/main.cpp.o\u001b[0m\n",
      "[ 13%] \u001b[32mBuilding CXX object CMakeFiles/mincrossing.dir/src/problems/problem.cpp.o\u001b[0m\n",
      "[ 20%] \u001b[32mBuilding CXX object CMakeFiles/mincrossing.dir/src/graph/bipartite_graph.cpp.o\u001b[0m\n",
      "[ 26%] \u001b[32mBuilding CXX object CMakeFiles/mincrossing.dir/src/algorithms/brute_force.cpp.o\u001b[0m\n",
      "[ 33%] \u001b[32mBuilding CXX object CMakeFiles/mincrossing.dir/src/algorithms/genetic_algorithm.cpp.o\u001b[0m\n",
      "[ 40%] \u001b[32mBuilding CXX object CMakeFiles/mincrossing.dir/src/algorithms/random_search.cpp.o\u001b[0m\n",
      "[ 46%] \u001b[32mBuilding CXX object CMakeFiles/mincrossing.dir/src/algorithms/simulated_annealing.cpp.o\u001b[0m\n"
     ]
    },
    {
     "name": "stderr",
     "output_type": "stream",
     "text": [
      "/home/thang/Study/pace2024/src/algorithms/simulated_annealing.cpp: In member function ‘virtual Solution SimulatedAnnealing::findSolution(BipartiteGraph*, StoppingCondition*)’:\n",
      "/home/thang/Study/pace2024/src/algorithms/simulated_annealing.cpp:66:25: note: ‘#pragma message: Random’\n",
      "   66 | #pragma message(\"Random\")\n",
      "      |                         ^\n"
     ]
    },
    {
     "name": "stdout",
     "output_type": "stream",
     "text": [
      "[ 53%] \u001b[32mBuilding CXX object CMakeFiles/mincrossing.dir/src/algorithms/ilp_algorithm.cpp.o\u001b[0m\n",
      "[ 60%] \u001b[32mBuilding CXX object CMakeFiles/mincrossing.dir/src/utils/utility.cpp.o\u001b[0m\n",
      "[ 66%] \u001b[32mBuilding CXX object CMakeFiles/mincrossing.dir/src/utils/argument.cpp.o\u001b[0m\n",
      "[ 73%] \u001b[32mBuilding CXX object CMakeFiles/mincrossing.dir/src/utils/random.cpp.o\u001b[0m\n",
      "[ 80%] \u001b[32mBuilding CXX object CMakeFiles/mincrossing.dir/src/stopping_conditions/time_stopping_condition.cpp.o\u001b[0m\n",
      "[ 86%] \u001b[32mBuilding CXX object CMakeFiles/mincrossing.dir/src/stopping_conditions/iteration_stopping_condition.cpp.o\u001b[0m\n",
      "[ 93%] \u001b[32mBuilding CXX object CMakeFiles/mincrossing.dir/src/stopping_conditions/combined_stopping_condition.cpp.o\u001b[0m\n",
      "[100%] \u001b[32m\u001b[1mLinking CXX executable mincrossing\u001b[0m\n",
      "[100%] Built target mincrossing\n",
      "\n",
      "\n",
      "BARY MODE enabled\n",
      "ILP Implemented\n",
      "Final build command: cmake -DGUROBI_DIR=/opt/gurobi1100/linux64/ -DBARY_MODE=ON -DGUROBI_DIR=/opt/gurobi1100/linux64/ ..\n",
      "-- Build type: \n",
      "-- Configuring done\n",
      "-- Generating done\n",
      "-- Build files have been written to: /home/thang/Study/pace2024/build\n",
      "\u001b[35m\u001b[1mConsolidate compiler generated dependencies of target mincrossing\u001b[0m\n",
      "[100%] Built target mincrossing\n",
      "\n",
      "\n",
      "BARY MODE enabled\n",
      "JUMP MODE enabled\n",
      "ILP Implemented\n",
      "Final build command: cmake -DGUROBI_DIR=/opt/gurobi1100/linux64/ -DBARY_MODE=ON -DJUMP_MODE=ON -DGUROBI_DIR=/opt/gurobi1100/linux64/ ..\n",
      "-- Build type: \n",
      "-- Configuring done\n",
      "-- Generating done\n",
      "-- Build files have been written to: /home/thang/Study/pace2024/build\n",
      "\u001b[35m\u001b[1mConsolidate compiler generated dependencies of target mincrossing\u001b[0m\n",
      "[100%] Built target mincrossing\n",
      "\n",
      "\n",
      "MEDIAN MODE enabled\n",
      "JUMP MODE enabled\n",
      "ILP Implemented\n",
      "Final build command: cmake -DGUROBI_DIR=/opt/gurobi1100/linux64/ -DMEDIAN_MODE=ON -DJUMP_MODE=ON -DGUROBI_DIR=/opt/gurobi1100/linux64/ ..\n",
      "-- Build type: \n",
      "-- Configuring done\n",
      "-- Generating done\n",
      "-- Build files have been written to: /home/thang/Study/pace2024/build\n",
      "\u001b[35m\u001b[1mConsolidate compiler generated dependencies of target mincrossing\u001b[0m\n",
      "[100%] Built target mincrossing\n",
      "\n",
      "\n"
     ]
    }
   ],
   "source": [
    "configs = [\n",
    "    ('mincrossing_random', ),\n",
    "    ('mincrossing_bary', '-b'),\n",
    "    ('mincrossing_bary_red', '-b', '-j'),\n",
    "    ('mincrossing_median', '-m', '-j')\n",
    "]\n",
    "\n",
    "\n",
    "for file, *flags in configs:\n",
    "    if flags == []: \n",
    "        subprocess.run(['/bin/bash', cwd + 'build.sh'], check=True)\n",
    "    else:\n",
    "        subprocess.run(['/bin/bash', cwd + 'build.sh', *flags], check=True)\n",
    "    subprocess.run(['cp', cwd + 'build/mincrossing', cwd + \"statistics/\" + file], check=True)\n",
    "    print(\"\\n\")"
   ]
  }
 ],
 "metadata": {
  "kernelspec": {
   "display_name": "Python 3",
   "language": "python",
   "name": "python3"
  },
  "language_info": {
   "codemirror_mode": {
    "name": "ipython",
    "version": 3
   },
   "file_extension": ".py",
   "mimetype": "text/x-python",
   "name": "python",
   "nbconvert_exporter": "python",
   "pygments_lexer": "ipython3",
   "version": "3.10.12"
  }
 },
 "nbformat": 4,
 "nbformat_minor": 2
}
