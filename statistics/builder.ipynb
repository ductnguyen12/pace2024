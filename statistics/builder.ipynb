{
 "cells": [
  {
   "cell_type": "code",
   "execution_count": 1,
   "metadata": {},
   "outputs": [
    {
     "name": "stdout",
     "output_type": "stream",
     "text": [
      "/home/thang/Study/pace2024/\n"
     ]
    }
   ],
   "source": [
    "import os\n",
    "import subprocess\n",
    "\n",
    "cwd = os.getcwd() + \"/\"\n",
    "os.chdir(cwd + \"..\")\n",
    "cwd = os.getcwd() + \"/\"\n",
    "print(cwd)\n"
   ]
  },
  {
   "cell_type": "code",
   "execution_count": 4,
   "metadata": {},
   "outputs": [
    {
     "name": "stdout",
     "output_type": "stream",
     "text": [
      "MEDIUM MODE enabled\n",
      "-- Build type: MediumMode\n",
      "-- Configuring done\n",
      "-- Generating done\n",
      "-- Build files have been written to: /home/thang/Study/pace2024/build\n",
      "\u001b[35m\u001b[1mConsolidate compiler generated dependencies of target mincrossing\u001b[0m\n",
      "[  6%] \u001b[32mBuilding CXX object CMakeFiles/mincrossing.dir/src/graph/bipartite_graph.cpp.o\u001b[0m\n"
     ]
    },
    {
     "name": "stderr",
     "output_type": "stream",
     "text": [
      "/home/thang/Study/pace2024/src/graph/bipartite_graph.cpp: In member function ‘int BipartiteGraph::__count(int, int)’:\n",
      "/home/thang/Study/pace2024/src/graph/bipartite_graph.cpp:62:1: warning: no return statement in function returning non-void [-Wreturn-type]\n",
      "   62 | }\n",
      "      | ^\n"
     ]
    },
    {
     "name": "stdout",
     "output_type": "stream",
     "text": [
      "[ 13%] \u001b[32m\u001b[1mLinking CXX executable mincrossing\u001b[0m\n",
      "[100%] Built target mincrossing\n"
     ]
    }
   ],
   "source": [
    "configs = [\n",
    "    # ('', 'mincrossing_random'),\n",
    "    #('-b', 'mincrossing_bary'),\n",
    "    # ('-j', 'mincrossing_bary_red'),\n",
    "    ('-m', 'mincrossing_medium')\n",
    "]\n",
    "\n",
    "for flag, file in configs:\n",
    "    if flag == '': \n",
    "        subprocess.run(['/bin/bash', cwd + 'build.sh'], check=True)\n",
    "    else:\n",
    "        subprocess.run(['/bin/bash', cwd + 'build.sh', flag], check=True)\n",
    "    subprocess.run(['cp', cwd + 'build/mincrossing', cwd + \"statistics/\" + file], check=True)"
   ]
  }
 ],
 "metadata": {
  "kernelspec": {
   "display_name": "Python 3",
   "language": "python",
   "name": "python3"
  },
  "language_info": {
   "codemirror_mode": {
    "name": "ipython",
    "version": 3
   },
   "file_extension": ".py",
   "mimetype": "text/x-python",
   "name": "python",
   "nbconvert_exporter": "python",
   "pygments_lexer": "ipython3",
   "version": "3.10.12"
  }
 },
 "nbformat": 4,
 "nbformat_minor": 2
}
