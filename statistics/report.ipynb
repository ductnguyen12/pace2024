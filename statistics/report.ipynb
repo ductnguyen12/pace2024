{
 "cells": [
  {
   "cell_type": "code",
   "execution_count": 3,
   "metadata": {},
   "outputs": [],
   "source": [
    "import os\n",
    "import subprocess\n",
    "\n",
    "cwd = os.getcwd() + \"/\""
   ]
  },
  {
   "cell_type": "code",
   "execution_count": 4,
   "metadata": {},
   "outputs": [],
   "source": [
    "\n",
    "def execute(executable, graph, algorithm, repetition, time=None, iteration=None, population=50):\n",
    "    args = [cwd+executable, '-f', cwd+graph, '-a', algorithm, '-r', str(repetition), '-s', str(population)]\n",
    "    if time is not None: args.extend(['-t', str(time)])\n",
    "    if iteration is not None: args.extend(['-i', str(iteration)])\n",
    "    return subprocess.run(args, capture_output=True)\n",
    "def extract(completed_process):\n",
    "    stdout = str(completed_process.stdout).split('\\\\n')\n",
    "    return {\n",
    "        \"lower bound\": int(stdout[-2].split(\"Lower bound: \")[1]),\n",
    "        \"min\": int(stdout[-3].split(\"Min: \")[1]),\n",
    "        \"average\": float(stdout[-4].split(\"Average: \")[1]),\n",
    "        \"max\": int(stdout[-5].split(\"Max: \")[1]),\n",
    "        \"records\": list(map(int, stdout[-6].split(','))),\n",
    "    }"
   ]
  },
  {
   "cell_type": "code",
   "execution_count": 16,
   "metadata": {},
   "outputs": [
    {
     "name": "stdout",
     "output_type": "stream",
     "text": [
      "CompletedProcess(args=['/home/thang/Study/pace2024/statistics/mincrossing_medium', '-f', '/home/thang/Study/pace2024/statistics/graphs/1000_1000_80000.gr', '-a', 'SA', '-r', '1', '-s', '50', '-t', '30000'], returncode=1, stdout=b'Repetition: 1\\n1592869788\\nMax: 1592869788\\nAverage: 1592869788.00\\nMin: 1592869788\\nLower bound: 1483733801\\n', stderr=b'')\n"
     ]
    }
   ],
   "source": [
    "p = execute('mincrossing_medium', 'graphs/1000_1000_80000.gr', 'SA', 1, 30000)\n",
    "print(p)"
   ]
  },
  {
   "cell_type": "code",
   "execution_count": 17,
   "metadata": {},
   "outputs": [
    {
     "name": "stdout",
     "output_type": "stream",
     "text": [
      "lower bound: 1483733801\n",
      "min: 1592869788\n",
      "average: 1592869788.0\n",
      "max: 1592869788\n",
      "records: [1592869788]\n"
     ]
    }
   ],
   "source": [
    "for key, item in extract(p).items():\n",
    "    print(f\"{key}: {item}\")"
   ]
  },
  {
   "cell_type": "code",
   "execution_count": 18,
   "metadata": {},
   "outputs": [
    {
     "name": "stdout",
     "output_type": "stream",
     "text": [
      "CompletedProcess(args=['/home/thang/Study/pace2024/statistics/mincrossing_medium', '-f', '/home/thang/Study/pace2024/statistics/graphs/1000_1000_80000.gr', '-a', 'RS', '-r', '1', '-s', '50', '-t', '30000'], returncode=1, stdout=b'Started at: 42623341308173\\nRepetition: 1\\n1586568478\\nMax: 1586568478\\nAverage: 1586568478.00\\nMin: 1586568478\\nLower bound: 1483733801\\n', stderr=b'')\n"
     ]
    }
   ],
   "source": [
    "p = execute('mincrossing_medium', 'graphs/1000_1000_80000.gr', 'RS', 1, 30000)\n",
    "print(p)"
   ]
  },
  {
   "cell_type": "code",
   "execution_count": 19,
   "metadata": {},
   "outputs": [
    {
     "name": "stdout",
     "output_type": "stream",
     "text": [
      "lower bound: 1483733801\n",
      "min: 1586568478\n",
      "average: 1586568478.0\n",
      "max: 1586568478\n",
      "records: [1586568478]\n"
     ]
    }
   ],
   "source": [
    "for key, item in extract(p).items():\n",
    "    print(f\"{key}: {item}\")"
   ]
  },
  {
   "cell_type": "code",
   "execution_count": 7,
   "metadata": {},
   "outputs": [
    {
     "name": "stdout",
     "output_type": "stream",
     "text": [
      "Iteration: 1000, Average: 6043059.5, Multiple: 1.1115494051531019\n",
      "Iteration: 1500, Average: 6027653.5, Multiple: 1.1087156534523634\n",
      "Iteration: 2000, Average: 6025307.0, Multiple: 1.1082840424978144\n",
      "Iteration: 2500, Average: 6021104.5, Multiple: 1.1075110422691792\n",
      "Iteration: 3000, Average: 6038595.5, Multiple: 1.1107283050887051\n",
      "Iteration: 3500, Average: 5990373.0, Multiple: 1.101858345891713\n",
      "Iteration: 4000, Average: 6029104.5, Multiple: 1.1089825477609296\n",
      "Iteration: 4500, Average: 6030973.0, Multiple: 1.1093262362623466\n",
      "Iteration: 5000, Average: 6025520.5, Multiple: 1.1083233133006254\n",
      "Iteration: 5500, Average: 6022404.5, Multiple: 1.1077501619115886\n",
      "Iteration: 6000, Average: 6028249.5, Multiple: 1.1088252806114989\n",
      "Iteration: 6500, Average: 6006556.0, Multiple: 1.1048350175633377\n",
      "Iteration: 7000, Average: 6014716.0, Multiple: 1.1063359531649233\n",
      "Iteration: 7500, Average: 6033720.0, Multiple: 1.1098315144605764\n",
      "Iteration: 8000, Average: 6028344.0, Multiple: 1.1088426627701202\n",
      "Iteration: 8500, Average: 6026653.5, Multiple: 1.1085317152658947\n",
      "Iteration: 9000, Average: 6021202.0, Multiple: 1.10752897624236\n",
      "Iteration: 9500, Average: 5980441.0, Multiple: 1.1000314718237048\n",
      "Iteration: 10000, Average: 5999975.0, Multiple: 1.1036245203581865\n"
     ]
    }
   ],
   "source": [
    "for i in range(1000, 10001, 500):\n",
    "    p = execute('mincrossing_medium', 'graphs/200_200_5000.gr', 'GA', 2, iteration=i)\n",
    "    e = extract(p)\n",
    "    print(f\"Iteration: {i}, Average: {e['average']}, Multiple: {e['average'] / e['lower bound']}\")"
   ]
  }
 ],
 "metadata": {
  "kernelspec": {
   "display_name": "Python 3",
   "language": "python",
   "name": "python3"
  },
  "language_info": {
   "codemirror_mode": {
    "name": "ipython",
    "version": 3
   },
   "file_extension": ".py",
   "mimetype": "text/x-python",
   "name": "python",
   "nbconvert_exporter": "python",
   "pygments_lexer": "ipython3",
   "version": "3.10.12"
  }
 },
 "nbformat": 4,
 "nbformat_minor": 2
}
